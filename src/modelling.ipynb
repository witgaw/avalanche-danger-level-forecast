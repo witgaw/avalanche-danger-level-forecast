{
 "cells": [
  {
   "cell_type": "code",
   "execution_count": null,
   "metadata": {},
   "outputs": [],
   "source": [
    "import pandas as pd\n",
    "from utils.error_metrics import MulticlassErrorMetrics, DatasetCategory\n",
    "\n",
    "from sklearn.linear_model import LogisticRegression\n",
    "from sklearn.preprocessing import StandardScaler\n",
    "from sklearn.pipeline import Pipeline"
   ]
  },
  {
   "cell_type": "code",
   "execution_count": null,
   "metadata": {},
   "outputs": [],
   "source": [
    "df_train = pd.read_csv(\"../data/processed/SAIS_train.csv\").drop(\"Date\", axis=1)\n",
    "df_dev = pd.read_csv(\"../data/processed/SAIS_dev.csv\").drop(\"Date\", axis=1)\n",
    "df_test = pd.read_csv(\"../data/processed/SAIS_test.csv\").drop(\"Date\", axis=1)\n",
    "most_frequent_value = df_train[\"mapped_hazard_forecast\"].value_counts().index[0]\n",
    "sets = {\n",
    "    DatasetCategory.TRAINING: df_train,\n",
    "    DatasetCategory.DEVELOPMENT: df_dev,\n",
    "    DatasetCategory.TEST: df_test,\n",
    "}\n",
    "\n",
    "errs_summary = MulticlassErrorMetrics(\n",
    "    dataset_name=\"sais\",\n",
    "    classes=sorted(df_train[\"mapped_hazard_forecast\"].unique()),\n",
    "    y_true_train=df_train[\"mapped_hazard_forecast\"],\n",
    "    y_true_dev=df_dev[\"mapped_hazard_forecast\"],\n",
    "    y_true_test=df_test[\"mapped_hazard_forecast\"],\n",
    ")\n",
    "\n",
    "X_train = df_train.drop(\n",
    "    columns=[\"mapped_hazard_forecast\", \"mapped_hazard_observed\", \"Area\"]\n",
    ")\n",
    "y_train = df_train[\"mapped_hazard_forecast\"]\n",
    "\n",
    "pipeline = Pipeline(\n",
    "    [(\"scaler\", StandardScaler()), (\"model\", LogisticRegression(random_state=1))]\n",
    ")\n",
    "\n",
    "pipeline.fit(X_train, y_train)\n",
    "\n",
    "errs_summary.compute_errors_all_sets(\n",
    "    \"constant\", most_frequent_value, most_frequent_value, most_frequent_value\n",
    ")\n",
    "errs_summary.compute_errors_all_sets(\n",
    "    \"observed\",\n",
    "    df_train[\"mapped_hazard_observed\"],\n",
    "    df_dev[\"mapped_hazard_observed\"],\n",
    "    df_test[\"mapped_hazard_observed\"],\n",
    ")\n",
    "\n",
    "for ds_type, ds in sets.items():\n",
    "    y_pred = pipeline.predict(\n",
    "        ds.drop(columns=[\"mapped_hazard_forecast\", \"mapped_hazard_observed\", \"Area\"])\n",
    "    )\n",
    "    errs_summary.compute_errors(\"softmax regression\", ds_type, y_pred)\n",
    "\n",
    "errs_summary.save_assets()"
   ]
  },
  {
   "cell_type": "code",
   "execution_count": 3,
   "metadata": {},
   "outputs": [],
   "source": [
    "# TODO:\n",
    "\n",
    "#  - rerun previous models\n",
    "\n",
    "df_train = pd.read_csv(\"../data/processed/SAIS_train.csv\", index_col=0)\n",
    "df_dev = pd.read_csv(\"../data/processed/SAIS_dev.csv\", index_col=0)\n",
    "df_combined = pd.concat([df_train, df_dev], ignore_index=False)"
   ]
  }
 ],
 "metadata": {
  "kernelspec": {
   "display_name": ".venv",
   "language": "python",
   "name": "python3"
  },
  "language_info": {
   "codemirror_mode": {
    "name": "ipython",
    "version": 3
   },
   "file_extension": ".py",
   "mimetype": "text/x-python",
   "name": "python",
   "nbconvert_exporter": "python",
   "pygments_lexer": "ipython3",
   "version": "3.12.7"
  }
 },
 "nbformat": 4,
 "nbformat_minor": 2
}
