{
 "cells": [
  {
   "cell_type": "code",
   "execution_count": 7,
   "metadata": {},
   "outputs": [
    {
     "data": {
      "text/html": [
       "<div>\n",
       "<style scoped>\n",
       "    .dataframe tbody tr th:only-of-type {\n",
       "        vertical-align: middle;\n",
       "    }\n",
       "\n",
       "    .dataframe tbody tr th {\n",
       "        vertical-align: top;\n",
       "    }\n",
       "\n",
       "    .dataframe thead th {\n",
       "        text-align: right;\n",
       "    }\n",
       "</style>\n",
       "<table border=\"1\" class=\"dataframe\">\n",
       "  <thead>\n",
       "    <tr style=\"text-align: right;\">\n",
       "      <th></th>\n",
       "      <th>name</th>\n",
       "      <th>geometry</th>\n",
       "    </tr>\n",
       "  </thead>\n",
       "  <tbody>\n",
       "    <tr>\n",
       "      <th>0</th>\n",
       "      <td>Creag Meagaidh</td>\n",
       "      <td>POLYGON ((-4.41507 56.9744, -4.44116 56.96485,...</td>\n",
       "    </tr>\n",
       "    <tr>\n",
       "      <th>1</th>\n",
       "      <td>Glencoe</td>\n",
       "      <td>POLYGON ((-5.25865 56.65222, -5.24578 56.67402...</td>\n",
       "    </tr>\n",
       "    <tr>\n",
       "      <th>2</th>\n",
       "      <td>Lochaber</td>\n",
       "      <td>POLYGON ((-5.08972 56.83065, -5.06397 56.83384...</td>\n",
       "    </tr>\n",
       "    <tr>\n",
       "      <th>3</th>\n",
       "      <td>Northern Cairngorms</td>\n",
       "      <td>POLYGON ((-3.78343 57.20349, -3.75545 57.20795...</td>\n",
       "    </tr>\n",
       "    <tr>\n",
       "      <th>4</th>\n",
       "      <td>Southern Cairngorms</td>\n",
       "      <td>POLYGON ((-3.37868 57.01625, -3.35379 57.0069,...</td>\n",
       "    </tr>\n",
       "  </tbody>\n",
       "</table>\n",
       "</div>"
      ],
      "text/plain": [
       "                  name                                           geometry\n",
       "0       Creag Meagaidh  POLYGON ((-4.41507 56.9744, -4.44116 56.96485,...\n",
       "1              Glencoe  POLYGON ((-5.25865 56.65222, -5.24578 56.67402...\n",
       "2             Lochaber  POLYGON ((-5.08972 56.83065, -5.06397 56.83384...\n",
       "3  Northern Cairngorms  POLYGON ((-3.78343 57.20349, -3.75545 57.20795...\n",
       "4  Southern Cairngorms  POLYGON ((-3.37868 57.01625, -3.35379 57.0069,..."
      ]
     },
     "execution_count": 7,
     "metadata": {},
     "output_type": "execute_result"
    }
   ],
   "source": [
    "import geopandas\n",
    "\n",
    "# Replace 'path_to_your_file' with the actual path to your SAIS_areaPolygons file\n",
    "file_path = '../data/processed/SAIS_areaPolygons.geojson'\n",
    "\n",
    "# Read the data\n",
    "gdf = geopandas.read_file(file_path)\n",
    "\n",
    "# Display the first few rows of the data\n",
    "gdf.head()\n"
   ]
  }
 ],
 "metadata": {
  "kernelspec": {
   "display_name": ".venv",
   "language": "python",
   "name": "python3"
  },
  "language_info": {
   "codemirror_mode": {
    "name": "ipython",
    "version": 3
   },
   "file_extension": ".py",
   "mimetype": "text/x-python",
   "name": "python",
   "nbconvert_exporter": "python",
   "pygments_lexer": "ipython3",
   "version": "3.12.7"
  }
 },
 "nbformat": 4,
 "nbformat_minor": 2
}
